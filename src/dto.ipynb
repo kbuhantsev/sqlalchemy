{
 "cells": [
  {
   "cell_type": "code",
   "execution_count": 25,
   "id": "initial_id",
   "metadata": {
    "collapsed": true,
    "ExecuteTime": {
     "end_time": "2024-02-21T08:09:09.453983100Z",
     "start_time": "2024-02-21T08:09:09.442002100Z"
    }
   },
   "outputs": [],
   "source": [
    "from models import WorkersOrm, ResumesOrm, Workload\n",
    "from schemas import ResumesDTO, ResumesRelDTO, WorkersDTO, WorkersRelDTO\n",
    "from database import session_factory, sync_engine\n",
    "\n",
    "from sqlalchemy import select, func, and_, or_, Integer\n",
    "from sqlalchemy.orm import selectinload, joinedload"
   ]
  },
  {
   "cell_type": "markdown",
   "source": [
    "Без relationship"
   ],
   "metadata": {
    "collapsed": false
   },
   "id": "8b164898c81c4be3"
  },
  {
   "cell_type": "code",
   "outputs": [
    {
     "name": "stdout",
     "output_type": "stream",
     "text": [
      "2024-02-21 10:38:35,607 INFO sqlalchemy.engine.Engine BEGIN (implicit)\n",
      "2024-02-21 10:38:35,610 INFO sqlalchemy.engine.Engine SELECT workers.id, workers.username \n",
      "FROM workers \n",
      " LIMIT %(param_1)s::INTEGER\n",
      "2024-02-21 10:38:35,611 INFO sqlalchemy.engine.Engine [cached since 4018s ago] {'param_1': 2}\n",
      "[<WorkersOrm id=1, username=Jack>, <WorkersOrm id=2, username=Michael>]\n",
      "[WorkersDTO(username='Jack', id=1), WorkersDTO(username='Michael', id=2)]\n",
      "2024-02-21 10:38:35,618 INFO sqlalchemy.engine.Engine ROLLBACK\n"
     ]
    }
   ],
   "source": [
    "with session_factory() as session:\n",
    "    query = (\n",
    "        select(WorkersOrm)\n",
    "        .limit(2))\n",
    "    res = session.execute(query)\n",
    "    result_orm = res.scalars().all()\n",
    "    print(f\"{result_orm}\")\n",
    "    result_dto = [WorkersDTO.model_validate(row, from_attributes=True) for row in result_orm]\n",
    "    print(f\"{result_dto}\")"
   ],
   "metadata": {
    "collapsed": false,
    "ExecuteTime": {
     "end_time": "2024-02-21T08:38:35.633393Z",
     "start_time": "2024-02-21T08:38:35.609022800Z"
    }
   },
   "id": "4489834d30825381",
   "execution_count": 31
  },
  {
   "cell_type": "markdown",
   "source": [
    "C relationship"
   ],
   "metadata": {
    "collapsed": false
   },
   "id": "7dd78ab849962dd2"
  },
  {
   "cell_type": "code",
   "outputs": [
    {
     "name": "stdout",
     "output_type": "stream",
     "text": [
      "2024-02-21 10:36:09,431 INFO sqlalchemy.engine.Engine BEGIN (implicit)\n",
      "2024-02-21 10:36:09,434 INFO sqlalchemy.engine.Engine SELECT workers.id, workers.username \n",
      "FROM workers\n",
      "2024-02-21 10:36:09,436 INFO sqlalchemy.engine.Engine [cached since 1803s ago] {}\n",
      "2024-02-21 10:36:09,443 INFO sqlalchemy.engine.Engine SELECT resumes.worker_id AS resumes_worker_id, resumes.id AS resumes_id, resumes.title AS resumes_title, resumes.compensation AS resumes_compensation, resumes.workload AS resumes_workload, resumes.created_at AS resumes_created_at, resumes.updated_at AS resumes_updated_at \n",
      "FROM resumes \n",
      "WHERE resumes.worker_id IN (%(primary_keys_1)s::INTEGER, %(primary_keys_2)s::INTEGER, %(primary_keys_3)s::INTEGER, %(primary_keys_4)s::INTEGER, %(primary_keys_5)s::INTEGER)\n",
      "2024-02-21 10:36:09,444 INFO sqlalchemy.engine.Engine [cached since 3591s ago] {'primary_keys_1': 1, 'primary_keys_2': 2, 'primary_keys_3': 3, 'primary_keys_4': 4, 'primary_keys_5': 5}\n",
      "[WorkersRelDTO(username='Jack', id=1, resumes=[ResumesDTO(title='Python Junior Developer', compensation=50000, workload=<Workload.fulltime: 'fulltime'>, worker_id=1, id=1, created_at=datetime.datetime(2024, 2, 21, 8, 34, 5, 377758), updated_at=datetime.datetime(2024, 2, 21, 8, 34, 5, 377758)), ResumesDTO(title='Python Разработчик', compensation=150000, workload=<Workload.fulltime: 'fulltime'>, worker_id=1, id=2, created_at=datetime.datetime(2024, 2, 21, 8, 34, 5, 377758), updated_at=datetime.datetime(2024, 2, 21, 8, 34, 5, 377758))]), WorkersRelDTO(username='Michael', id=2, resumes=[ResumesDTO(title='Python Data Engineer', compensation=250000, workload=<Workload.parttime: 'parttime'>, worker_id=2, id=3, created_at=datetime.datetime(2024, 2, 21, 8, 34, 5, 377758), updated_at=datetime.datetime(2024, 2, 21, 8, 34, 5, 377758)), ResumesDTO(title='Data Scientist', compensation=300000, workload=<Workload.fulltime: 'fulltime'>, worker_id=2, id=4, created_at=datetime.datetime(2024, 2, 21, 8, 34, 5, 377758), updated_at=datetime.datetime(2024, 2, 21, 8, 34, 5, 377758))]), WorkersRelDTO(username='Artem', id=3, resumes=[ResumesDTO(title='Python программист', compensation=60000, workload=<Workload.fulltime: 'fulltime'>, worker_id=3, id=5, created_at=datetime.datetime(2024, 2, 21, 8, 34, 5, 462581), updated_at=datetime.datetime(2024, 2, 21, 8, 34, 5, 462581)), ResumesDTO(title='Machine Learning Engineer', compensation=70000, workload=<Workload.parttime: 'parttime'>, worker_id=3, id=6, created_at=datetime.datetime(2024, 2, 21, 8, 34, 5, 462581), updated_at=datetime.datetime(2024, 2, 21, 8, 34, 5, 462581))]), WorkersRelDTO(username='Roman', id=4, resumes=[ResumesDTO(title='Python Data Scientist', compensation=80000, workload=<Workload.parttime: 'parttime'>, worker_id=4, id=7, created_at=datetime.datetime(2024, 2, 21, 8, 34, 5, 462581), updated_at=datetime.datetime(2024, 2, 21, 8, 34, 5, 462581)), ResumesDTO(title='Python Analyst', compensation=90000, workload=<Workload.fulltime: 'fulltime'>, worker_id=4, id=8, created_at=datetime.datetime(2024, 2, 21, 8, 34, 5, 462581), updated_at=datetime.datetime(2024, 2, 21, 8, 34, 5, 462581))]), WorkersRelDTO(username='Petr', id=5, resumes=[ResumesDTO(title='Python Junior Developer', compensation=100000, workload=<Workload.fulltime: 'fulltime'>, worker_id=5, id=9, created_at=datetime.datetime(2024, 2, 21, 8, 34, 5, 462581), updated_at=datetime.datetime(2024, 2, 21, 8, 34, 5, 462581))])]\n",
      "2024-02-21 10:36:09,480 INFO sqlalchemy.engine.Engine ROLLBACK\n"
     ]
    }
   ],
   "source": [
    "\n",
    "with session_factory() as session:\n",
    "    query = (\n",
    "        select(WorkersOrm)\n",
    "        .options(selectinload(WorkersOrm.resumes))\n",
    "    )\n",
    "    res = session.execute(query)\n",
    "    \n",
    "    result_orm = res.scalars().all()\n",
    "    result_dto = [WorkersRelDTO.model_validate(row, from_attributes=True) for row in result_orm]\n",
    "    print(f\"{result_dto}\")"
   ],
   "metadata": {
    "collapsed": false,
    "ExecuteTime": {
     "end_time": "2024-02-21T08:36:09.522943600Z",
     "start_time": "2024-02-21T08:36:09.431656400Z"
    }
   },
   "id": "36f2e8751084eb44",
   "execution_count": 30
  },
  {
   "cell_type": "markdown",
   "source": [
    "JOIN"
   ],
   "metadata": {
    "collapsed": false
   },
   "id": "51ba31507e5ac658"
  },
  {
   "cell_type": "code",
   "outputs": [],
   "source": [
    "with session_factory() as session:\n",
    "    query = (\n",
    "        select(\n",
    "            ResumesOrm.workload,\n",
    "            func.avg(ResumesOrm.compensation)\n",
    "            .cast(Integer)\n",
    "            .label(\"avg_compensation\"),\n",
    "        )\n",
    "        .select_from(ResumesOrm)\n",
    "        .filter(\n",
    "            and_(\n",
    "                ResumesOrm.title.contains('Python'),\n",
    "                ResumesOrm.compensation > 40000,\n",
    "            )\n",
    "        )\n",
    "        .group_by(ResumesOrm.workload)\n",
    "        .having(func.avg(ResumesOrm.compensation) > 70000)\n",
    "    )\n",
    "    print(query.compile(compile_kwargs={\"literal_binds\": True}))\n",
    "    res = session.execute(query)\n",
    "    result = res.all()\n",
    "    print(f\"{result=}\")\n",
    "\n"
   ],
   "metadata": {
    "collapsed": false
   },
   "id": "15edc4cde5f7ec3b"
  }
 ],
 "metadata": {
  "kernelspec": {
   "display_name": "Python 3",
   "language": "python",
   "name": "python3"
  },
  "language_info": {
   "codemirror_mode": {
    "name": "ipython",
    "version": 2
   },
   "file_extension": ".py",
   "mimetype": "text/x-python",
   "name": "python",
   "nbconvert_exporter": "python",
   "pygments_lexer": "ipython2",
   "version": "2.7.6"
  }
 },
 "nbformat": 4,
 "nbformat_minor": 5
}
