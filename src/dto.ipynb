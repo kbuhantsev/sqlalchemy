{
 "cells": [
  {
   "cell_type": "code",
   "execution_count": null,
   "id": "initial_id",
   "metadata": {
    "collapsed": true
   },
   "outputs": [],
   "source": [
    "from models import WorkersOrm, ResumesOrm, Workload\n",
    "from schemas import ResumesDTO, ResumesRelDTO, WorkersDTO, WorkersRelDTO\n",
    "from database import session_factory, sync_engine\n",
    "\n",
    "from sqlalchemy import select, func, and_, or_, Integer\n",
    "from sqlalchemy.orm import selectinload"
   ]
  },
  {
   "cell_type": "markdown",
   "source": [
    "Без relationship"
   ],
   "metadata": {
    "collapsed": false
   },
   "id": "8b164898c81c4be3"
  },
  {
   "cell_type": "code",
   "outputs": [],
   "source": [
    "with session_factory() as session:\n",
    "    query = (\n",
    "        select(WorkersOrm)\n",
    "        .limit(2))\n",
    "    res = session.execute(query)\n",
    "    result_orm = res.scalars().all()\n",
    "    print(f\"{result_orm}\")\n",
    "    result_dto = [WorkersDTO.model_validate(row, from_attributes=True) for row in result_orm]\n",
    "    print(f\"{result_dto}\")"
   ],
   "metadata": {
    "collapsed": false
   },
   "id": "4489834d30825381",
   "execution_count": null
  },
  {
   "cell_type": "markdown",
   "source": [],
   "metadata": {
    "collapsed": false
   },
   "id": "781cb745cf79bcde"
  },
  {
   "cell_type": "markdown",
   "source": [
    "C relationship"
   ],
   "metadata": {
    "collapsed": false
   },
   "id": "7dd78ab849962dd2"
  },
  {
   "cell_type": "code",
   "outputs": [
    {
     "name": "stdout",
     "output_type": "stream",
     "text": [
      "2024-02-04 23:12:36,919 INFO sqlalchemy.engine.Engine BEGIN (implicit)\n",
      "2024-02-04 23:12:36,923 INFO sqlalchemy.engine.Engine SELECT workers.id, workers.username \n",
      "FROM workers \n",
      " LIMIT %(param_1)s::INTEGER\n",
      "2024-02-04 23:12:36,926 INFO sqlalchemy.engine.Engine [cached since 23.88s ago] {'param_1': 2}\n",
      "2024-02-04 23:12:36,943 INFO sqlalchemy.engine.Engine SELECT resumes.worker_id AS resumes_worker_id, resumes.id AS resumes_id, resumes.title AS resumes_title, resumes.compensation AS resumes_compensation, resumes.workload AS resumes_workload, resumes.created_at AS resumes_created_at, resumes.updated_at AS resumes_updated_at \n",
      "FROM resumes \n",
      "WHERE resumes.worker_id IN (%(primary_keys_1)s::INTEGER, %(primary_keys_2)s::INTEGER)\n",
      "2024-02-04 23:12:36,949 INFO sqlalchemy.engine.Engine [cached since 23.86s ago] {'primary_keys_1': 1, 'primary_keys_2': 2}\n",
      "[WorkersRelDTO(username='Jack', id=1, resumes=[ResumesDTO(title='Python Junior Developer', compensation=50000, workload=<Workload.fulltime: 'fulltime'>, worker_id=1, id=1, created_at=datetime.datetime(2024, 2, 4, 19, 25, 22, 600240), updated_at=datetime.datetime(2024, 2, 4, 19, 25, 22, 600240)), ResumesDTO(title='Python Разработчик', compensation=150000, workload=<Workload.fulltime: 'fulltime'>, worker_id=1, id=2, created_at=datetime.datetime(2024, 2, 4, 19, 25, 22, 600240), updated_at=datetime.datetime(2024, 2, 4, 19, 25, 22, 600240))]), WorkersRelDTO(username='Michael', id=2, resumes=[ResumesDTO(title='Python Data Engineer', compensation=250000, workload=<Workload.parttime: 'parttime'>, worker_id=2, id=3, created_at=datetime.datetime(2024, 2, 4, 19, 25, 22, 600240), updated_at=datetime.datetime(2024, 2, 4, 19, 25, 22, 600240)), ResumesDTO(title='Data Scientist', compensation=300000, workload=<Workload.fulltime: 'fulltime'>, worker_id=2, id=4, created_at=datetime.datetime(2024, 2, 4, 19, 25, 22, 600240), updated_at=datetime.datetime(2024, 2, 4, 19, 25, 22, 600240))])]\n",
      "2024-02-04 23:12:36,960 INFO sqlalchemy.engine.Engine ROLLBACK\n"
     ]
    }
   ],
   "source": [
    "with session_factory() as session:\n",
    "query = (\n",
    "    select(WorkersOrm)\n",
    "    .options(selectinload(WorkersOrm.resumes))\n",
    "    .limit(2))\n",
    "res = session.execute(query)\n",
    "result_orm = res.scalars().all()\n",
    "# print(f\"{result_orm}\")\n",
    "result_dto = [WorkersRelDTO.model_validate(row, from_attributes=True) for row in result_orm]\n",
    "print(f\"{result_dto}\")"
   ],
   "metadata": {
    "collapsed": false,
    "ExecuteTime": {
     "end_time": "2024-02-04T21:12:36.976435500Z",
     "start_time": "2024-02-04T21:12:36.916714400Z"
    }
   },
   "id": "36f2e8751084eb44",
   "execution_count": 5
  },
  {
   "cell_type": "markdown",
   "source": [
    "JOIN"
   ],
   "metadata": {
    "collapsed": false
   },
   "id": "51ba31507e5ac658"
  },
  {
   "cell_type": "code",
   "outputs": [],
   "source": [
    "with session_factory() as session:\n",
    "    query = (\n",
    "        select(\n",
    "            ResumesOrm.workload,\n",
    "            func.avg(ResumesOrm.compensation)\n",
    "            .cast(Integer)\n",
    "            .label(\"avg_compensation\"),\n",
    "        )\n",
    "        .select_from(ResumesOrm)\n",
    "        .filter(\n",
    "            and_(\n",
    "                ResumesOrm.title.contains('Python'),\n",
    "                ResumesOrm.compensation > 40000,\n",
    "            )\n",
    "        )\n",
    "        .group_by(ResumesOrm.workload)\n",
    "        .having(func.avg(ResumesOrm.compensation) > 70000)\n",
    "    )\n",
    "    print(query.compile(compile_kwargs={\"literal_binds\": True}))\n",
    "    res = session.execute(query)\n",
    "    result = res.all()\n",
    "    print(f\"{result=}\")\n",
    "\n"
   ],
   "metadata": {
    "collapsed": false
   },
   "id": "15edc4cde5f7ec3b"
  }
 ],
 "metadata": {
  "kernelspec": {
   "display_name": "Python 3",
   "language": "python",
   "name": "python3"
  },
  "language_info": {
   "codemirror_mode": {
    "name": "ipython",
    "version": 2
   },
   "file_extension": ".py",
   "mimetype": "text/x-python",
   "name": "python",
   "nbconvert_exporter": "python",
   "pygments_lexer": "ipython2",
   "version": "2.7.6"
  }
 },
 "nbformat": 4,
 "nbformat_minor": 5
}
